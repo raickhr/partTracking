{
 "cells": [
  {
   "cell_type": "code",
   "execution_count": 1,
   "id": "c67626c0-dfcb-4bc1-9c03-5b8e0627349a",
   "metadata": {},
   "outputs": [],
   "source": [
    "from netCDF4 import Dataset\n",
    "import pandas as pd\n",
    "import numpy as np\n",
    "import xarray as xr\n",
    "import matplotlib.pyplot as plt\n",
    "from datetime import datetime,timedelta\n",
    "%matplotlib inline"
   ]
  },
  {
   "cell_type": "code",
   "execution_count": 2,
   "id": "79450d6c-aa45-4f98-9800-3da3ed84dc82",
   "metadata": {},
   "outputs": [],
   "source": [
    "xpos = np.random.rand(1,20)\n",
    "ypos = np.random.rand(1,20)\n",
    "zpos = np.random.rand(1,20)\n",
    "varNameList = ['uvel', 'vvel', 'wvel', 'pres', 'rho', 'theta_o', 'salinity', 'dx_pres', 'dy_pres']\n",
    "varUnitsList = ['m/s', 'm/s', 'm/s','Pascal', 'm^3/kg', 'deg C', 'psu', 'Pascal/m', 'Pascal/m']\n",
    "varValList = np.random.rand(9,1,20)\n",
    "fname = 'testCreateParticlePath.nc'\n",
    "timeVal = np.array([datetime(2020,1,1,0,0,0)])"
   ]
  },
  {
   "cell_type": "code",
   "execution_count": 3,
   "id": "a604a8c3-9c4c-498c-8ab8-b683fc3f95f0",
   "metadata": {},
   "outputs": [],
   "source": [
    "def createParticleFile(xpos, ypos, zpos, timeVal, varNameList, varUnitsList, varValList, fname):\n",
    "    #xpos shape (time, pid)\n",
    "    #varValList shape (nvars, time, pid)\n",
    "\n",
    "    pids = np.arange(xpos.shape[1])\n",
    "    xpos_darray = xr.DataArray(xpos[:,:], \n",
    "                            dims=('time', 'pid'),\n",
    "                            coords={'time': timeVal, 'pid': pids}, \n",
    "                            attrs={'units':'degrees East Longitude', \n",
    "                                    'long_name': 'x position'})\n",
    "    ypos_darray = xr.DataArray(ypos[:,:], \n",
    "                            dims=('time', 'pid'),\n",
    "                            coords={'time': timeVal, 'pid': pids}, \n",
    "                            attrs={'units':'degrees North Latitude', \n",
    "                                    'long_name': 'x position'})\n",
    "    zpos_darray = xr.DataArray(zpos[:,:], \n",
    "                            dims=('time', 'pid'),\n",
    "                            coords={'time': timeVal, 'pid': pids}, \n",
    "                            attrs={'units':'meters', \n",
    "                                    'long_name': 'depth in meters'})\n",
    "    \n",
    "    dataset_dict = {}\n",
    "\n",
    "    dataset_dict['xpos'] = xr.Dataset({'xpos': xpos_darray})\n",
    "    dataset_dict['ypos'] = xr.Dataset({'ypos': ypos_darray})\n",
    "    dataset_dict['zpos'] = xr.Dataset({'zpos': zpos_darray})\n",
    "\n",
    "    for i in range(9):\n",
    "        data_array = xr.DataArray(varValList[i,:,:], \n",
    "                                dims=('time', 'pid'),\n",
    "                                coords={'time': timeVal, 'pid': pids}, \n",
    "                                attrs={'units': varUnitsList[i]})\n",
    "        dataset_dict[varNameList[i]] = xr.Dataset({varNameList[i]: data_array})\n",
    "\n",
    "    xds = xr.merge(list(dataset_dict.values()))\n",
    "    xds.to_netcdf(fname, unlimited_dims='time')\n",
    "    xds.close()"
   ]
  },
  {
   "cell_type": "code",
   "execution_count": 4,
   "id": "bdf14d88-899e-49ec-a5fb-4c771d3ff487",
   "metadata": {},
   "outputs": [],
   "source": [
    "createParticleFile(xpos, ypos, zpos, timeVal, varNameList, varUnitsList, varValList, fname)"
   ]
  },
  {
   "cell_type": "code",
   "execution_count": 5,
   "id": "85fecb1d-a34f-42ba-b40c-03de67f44fa4",
   "metadata": {},
   "outputs": [],
   "source": [
    "xpos = np.random.rand(1,20)\n",
    "ypos = np.random.rand(1,20)\n",
    "zpos = np.random.rand(1,20)\n",
    "varNameList = ['uvel', 'vvel', 'wvel', 'pres', 'rho', 'theta_o', 'salinity', 'dx_pres', 'dy_pres']\n",
    "varUnitsList = ['m/s', 'm/s', 'm/s','Pascal', 'm^3/kg', 'deg C', 'psu', 'Pascal/m', 'Pascal/m']\n",
    "varValList = np.random.rand(9,1,20)\n",
    "fname = 'testCreateParticlePath.nc'\n",
    "timeVal = np.array([datetime(2020,1,2,0,0,0)])"
   ]
  },
  {
   "cell_type": "code",
   "execution_count": 6,
   "id": "7325d174-cc0e-43f6-9321-935994f63e82",
   "metadata": {},
   "outputs": [],
   "source": [
    "def appendParticleFile(xpos, ypos, zpos, timeVal, varNameList, varUnitsList, varValList, fname):\n",
    "    #xpos shape (time, pid)\n",
    "    #varValList shape (nvars, time, pid)\n",
    "    xds = xr.open_dataset(fname)\n",
    "    \n",
    "    pids = np.arange(xpos.shape[1])\n",
    "    xpos_darray = xr.DataArray(xpos[:,:], \n",
    "                            dims=('time', 'pid'),\n",
    "                            coords={'time': timeVal, 'pid': pids}, \n",
    "                            attrs={'units':'degrees East Longitude', \n",
    "                                    'long_name': 'x position'})\n",
    "    ypos_darray = xr.DataArray(ypos[:,:], \n",
    "                            dims=('time', 'pid'),\n",
    "                            coords={'time': timeVal, 'pid': pids}, \n",
    "                            attrs={'units':'degrees North Latitude', \n",
    "                                    'long_name': 'x position'})\n",
    "    zpos_darray = xr.DataArray(zpos[:,:], \n",
    "                            dims=('time', 'pid'),\n",
    "                            coords={'time': timeVal, 'pid': pids}, \n",
    "                            attrs={'units':'meters', \n",
    "                                    'long_name': 'depth in meters'})\n",
    "    \n",
    "    dataset_dict = {}\n",
    "\n",
    "    dataset_dict['xpos'] = xr.Dataset({'xpos': xpos_darray})\n",
    "    dataset_dict['ypos'] = xr.Dataset({'ypos': ypos_darray})\n",
    "    dataset_dict['zpos'] = xr.Dataset({'zpos': zpos_darray})\n",
    "\n",
    "    for i in range(9):\n",
    "        data_array = xr.DataArray(varValList[i,:,:], \n",
    "                                dims=('time', 'pid'),\n",
    "                                coords={'time': timeVal, 'pid': pids}, \n",
    "                                attrs={'units': varUnitsList[i]})\n",
    "        dataset_dict[varNameList[i]] = xr.Dataset({varNameList[i]: data_array})\n",
    "\n",
    "    newxds = xr.merge(list(dataset_dict.values()))\n",
    "    writexds = xr.concat([xds, newxds], dim='time')\n",
    "    newxds.close()\n",
    "    xds.close()\n",
    "    \n",
    "    writexds.to_netcdf(fname, unlimited_dims='time')\n",
    "    writexds.close()"
   ]
  },
  {
   "cell_type": "code",
   "execution_count": 7,
   "id": "6ed29b5a-13de-4c19-bfad-afd1eeaaf3bf",
   "metadata": {},
   "outputs": [
    {
     "name": "stderr",
     "output_type": "stream",
     "text": [
      "/home/shikhar.rai/anaconda3/envs/mpiNetCDF/lib/python3.11/site-packages/xarray/core/concat.py:546: FutureWarning: unique with argument that is not not a Series, Index, ExtensionArray, or np.ndarray is deprecated and will raise in a future version.\n",
      "  common_dims = tuple(pd.unique([d for v in vars for d in v.dims]))\n"
     ]
    }
   ],
   "source": [
    "appendParticleFile(xpos, ypos, zpos, timeVal, varNameList, varUnitsList, varValList, fname)"
   ]
  },
  {
   "cell_type": "code",
   "execution_count": 8,
   "id": "4ac755b0-59d3-42a4-a316-459bd11d9ec4",
   "metadata": {},
   "outputs": [],
   "source": [
    "t0 = datetime(2020,1,1)\n",
    "t1 = datetime(2020,1,2)\n",
    "dt = (t1 - t0)/8"
   ]
  },
  {
   "cell_type": "code",
   "execution_count": 10,
   "id": "b475a801-f57f-45f5-b788-19409ee0d8f7",
   "metadata": {},
   "outputs": [],
   "source": [
    "curtime = t0 + dt"
   ]
  },
  {
   "cell_type": "code",
   "execution_count": 11,
   "id": "187bfa3b-45bb-4d15-a257-512b229aef27",
   "metadata": {},
   "outputs": [
    {
     "data": {
      "text/plain": [
       "datetime.datetime(2020, 1, 1, 3, 0)"
      ]
     },
     "execution_count": 11,
     "metadata": {},
     "output_type": "execute_result"
    }
   ],
   "source": [
    "curtime"
   ]
  },
  {
   "cell_type": "code",
   "execution_count": 13,
   "id": "f2aa1cf0-546c-4840-abc1-d4cdd7df7b40",
   "metadata": {},
   "outputs": [
    {
     "data": {
      "text/plain": [
       "10800"
      ]
     },
     "execution_count": 13,
     "metadata": {},
     "output_type": "execute_result"
    }
   ],
   "source": [
    "dt.seconds"
   ]
  },
  {
   "cell_type": "code",
   "execution_count": null,
   "id": "8633a34f-b990-4259-9951-f6cb5efa2b99",
   "metadata": {},
   "outputs": [],
   "source": []
  }
 ],
 "metadata": {
  "kernelspec": {
   "display_name": "Python 3 (ipykernel)",
   "language": "python",
   "name": "python3"
  },
  "language_info": {
   "codemirror_mode": {
    "name": "ipython",
    "version": 3
   },
   "file_extension": ".py",
   "mimetype": "text/x-python",
   "name": "python",
   "nbconvert_exporter": "python",
   "pygments_lexer": "ipython3",
   "version": "3.11.5"
  }
 },
 "nbformat": 4,
 "nbformat_minor": 5
}
