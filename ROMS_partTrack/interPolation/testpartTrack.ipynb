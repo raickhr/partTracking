{
 "cells": [
  {
   "cell_type": "code",
   "execution_count": 1,
   "id": "db268b9f-fd6e-478c-944e-882b8a6b56dd",
   "metadata": {},
   "outputs": [],
   "source": [
    "import xarray as xr\n",
    "import matplotlib.pyplot as plt\n",
    "import matplotlib.animation\n",
    "import numpy as np\n",
    "from IPython.display import HTML\n",
    "%matplotlib inline"
   ]
  },
  {
   "cell_type": "code",
   "execution_count": 2,
   "id": "b8094e8a-91fd-497a-ae9a-29a618187f86",
   "metadata": {},
   "outputs": [],
   "source": [
    "xds = xr.open_dataset('/home/shikhar.rai/WHOI/particleTrack_GLORYS/partTracking/gloRYS_partTrack/prepareData/DATA/GLORYS12v1_dailyAvg_2020-01-01_added.nc')"
   ]
  },
  {
   "cell_type": "code",
   "execution_count": 3,
   "id": "f34f038d-e0b2-45a6-a406-16eb67b322e4",
   "metadata": {},
   "outputs": [],
   "source": [
    "uvel = xds['uo'].to_numpy()\n",
    "vvel = xds['vo'].to_numpy()\n",
    "wvel = xds['wo'].to_numpy()\n",
    "#xds['wo']..sel(level=level)"
   ]
  },
  {
   "cell_type": "code",
   "execution_count": 4,
   "id": "beaa8074-beee-42fb-b076-f6150ede3173",
   "metadata": {},
   "outputs": [],
   "source": [
    "lat = xds['latitude'].to_numpy()\n",
    "lon = xds['longitude'].to_numpy()\n",
    "depth = xds['depth'].to_numpy()"
   ]
  },
  {
   "cell_type": "raw",
   "id": "2cb710ba-e908-4fc0-9cb4-0a491b0a3a9b",
   "metadata": {},
   "source": [
    "before interpolatoin var uo \n",
    " [[0.09460738 0.08423109]\n",
    " [0.08789331 0.07812738]]\n",
    "interpolation coords:\n",
    "xpos ypos -129.06053748822777 7.5346748763427875\n",
    "xcorners [-129.08333 -129.     ]\n",
    "ycorners [7.5       7.5833335]\n",
    "after interpolation var uo 0.08852295292857093"
   ]
  },
  {
   "cell_type": "code",
   "execution_count": 5,
   "id": "731c7168-735f-45d0-a585-0236ab41d525",
   "metadata": {},
   "outputs": [
    {
     "data": {
      "text/plain": [
       "0.0872043721551563"
      ]
     },
     "execution_count": 5,
     "metadata": {},
     "output_type": "execute_result"
    }
   ],
   "source": [
    "x, y = -129.06053748822777,  7.5346748763427875\n",
    "xArr = np.array([-129.08333,  -129.   , -129., -129.08333 ], dtype=np.float64)\n",
    "yArr = np.array([7.5, 7.5,        7.5833335, 7.5833335 ], dtype=np.float64)\n",
    "ValArr = np.array([0.09460738, 0.08423109, 0.08789331, 0.07812738], dtype=np.float64)\n",
    "\n",
    "xyArr = xArr * yArr\n",
    "Amat = np.stack((np.ones((4),dtype=float),\n",
    "                xArr,\n",
    "                yArr,\n",
    "                xyArr), axis =1)\n",
    "\n",
    "coeff = np.linalg.inv(Amat)@ValArr\n",
    "multArr = np.array([1, x, y, x*y], dtype=float)\n",
    "coeff@multArr"
   ]
  },
  {
   "cell_type": "code",
   "execution_count": 6,
   "id": "ab100be0-b793-42b8-abf6-02ff904e42cf",
   "metadata": {},
   "outputs": [
    {
     "data": {
      "text/plain": [
       "(-129.08333, -129.0, 7.5, 266.0403)"
      ]
     },
     "execution_count": 6,
     "metadata": {},
     "output_type": "execute_result"
    }
   ],
   "source": [
    "lon[251], lon[252], lat[270], depth[27]"
   ]
  },
  {
   "cell_type": "code",
   "execution_count": 7,
   "id": "3df12c51-30e9-477e-99c9-99a45e7a27d9",
   "metadata": {},
   "outputs": [
    {
     "data": {
      "text/plain": [
       "0.1739555"
      ]
     },
     "execution_count": 7,
     "metadata": {},
     "output_type": "execute_result"
    }
   ],
   "source": [
    "uvel[0,27,270,251]"
   ]
  },
  {
   "cell_type": "code",
   "execution_count": 8,
   "id": "5329d99a-92b3-4005-9044-ec6b7b8a7cb8",
   "metadata": {},
   "outputs": [],
   "source": [
    "mask = np.logical_or(np.isnan(uvel), abs(uvel) > 100)"
   ]
  },
  {
   "cell_type": "code",
   "execution_count": 9,
   "id": "4a0cfbea-b89d-4365-911a-052c64f792a3",
   "metadata": {},
   "outputs": [
    {
     "data": {
      "text/plain": [
       "<matplotlib.collections.PathCollection at 0x7fe44f097cd0>"
      ]
     },
     "execution_count": 9,
     "metadata": {},
     "output_type": "execute_result"
    },
    {
     "data": {
      "image/png": "[encoded data removed]",
      "text/plain": [
       "<Figure size 640x480 with 1 Axes>"
      ]
     },
     "metadata": {},
     "output_type": "display_data"
    }
   ],
   "source": [
    "plt.plot(xArr, yArr)\n",
    "plt.scatter(x, y)"
   ]
  },
  {
   "cell_type": "raw",
   "id": "a969c130-701f-4b40-84d9-96f08a49687c",
   "metadata": {},
   "source": [
    "xpos, ypos, zpos [-129.05257998] [7.53649928] [300.]\n",
    "xvel, yvel, zvel [0.20551396] [0.14455848] [0.125]"
   ]
  },
  {
   "cell_type": "code",
   "execution_count": 10,
   "id": "aaafcc70-bf56-4762-bb34-2f00cc087d86",
   "metadata": {},
   "outputs": [],
   "source": [
    "xpos, ypos, zpos = -129.05257998435246, 7.536499275055691, 300.0\n",
    "xvel, yvel, zvel = 0.2055139625032747, 0.14455847757349952, 0.125\n",
    "dx, dy, dz = 0.020134834404031954, 0.014040492717661168, -1350.0"
   ]
  },
  {
   "cell_type": "code",
   "execution_count": 12,
   "id": "e7ee37a8-deaa-4721-915d-8ad19fb720a3",
   "metadata": {},
   "outputs": [],
   "source": [
    "xpos, ypos, zpos = -120, 0, 200\n",
    "\n",
    "xind = np.argmin(abs(lon - xpos))\n",
    "yind = np.argmin(abs(lat - ypos))\n",
    "zind = np.argmin(abs(depth - zpos))"
   ]
  },
  {
   "cell_type": "code",
   "execution_count": 13,
   "id": "b17e94c1-a93a-4143-82d0-f95e6dcac4b0",
   "metadata": {},
   "outputs": [
    {
     "data": {
      "text/plain": [
       "(0.6079287, -0.020752586, 0.0)"
      ]
     },
     "execution_count": 13,
     "metadata": {},
     "output_type": "execute_result"
    }
   ],
   "source": [
    "uvel[0,zind, yind, xind], vvel[0,zind, yind, xind], wvel[0,zind, yind, xind]"
   ]
  },
  {
   "cell_type": "code",
   "execution_count": null,
   "id": "c83d0e29-1f60-40c7-a76a-fad3b1e9f8cb",
   "metadata": {},
   "outputs": [],
   "source": [
    "omega = 7.2921159/1e5"
   ]
  },
  {
   "cell_type": "code",
   "execution_count": null,
   "id": "42cc232c-f7b1-423a-a6e7-44b62f4ece0b",
   "metadata": {},
   "outputs": [],
   "source": [
    "omega"
   ]
  },
  {
   "cell_type": "code",
   "execution_count": null,
   "id": "e9677da8-7cf0-4a09-a15e-d47daaaf702c",
   "metadata": {},
   "outputs": [],
   "source": []
  }
 ],
 "metadata": {
  "kernelspec": {
   "display_name": "Python 3 (ipykernel)",
   "language": "python",
   "name": "python3"
  },
  "language_info": {
   "codemirror_mode": {
    "name": "ipython",
    "version": 3
   },
   "file_extension": ".py",
   "mimetype": "text/x-python",
   "name": "python",
   "nbconvert_exporter": "python",
   "pygments_lexer": "ipython3",
   "version": "3.11.5"
  }
 },
 "nbformat": 4,
 "nbformat_minor": 5
}
